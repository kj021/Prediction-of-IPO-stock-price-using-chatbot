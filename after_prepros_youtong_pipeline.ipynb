{
 "cells": [
  {
   "cell_type": "code",
   "execution_count": 1,
   "id": "57dab17d",
   "metadata": {},
   "outputs": [],
   "source": [
    "import pandas as pd\n",
    "import numpy as np\n",
    "import matplotlib.pyplot as plt\n",
    "import seaborn as sns\n",
    "from sklearn import preprocessing\n",
    "from sklearn.model_selection import train_test_split\n",
    "from sklearn.decomposition import PCA"
   ]
  },
  {
   "cell_type": "code",
   "execution_count": 2,
   "id": "40c14a48",
   "metadata": {},
   "outputs": [],
   "source": [
    "df = pd.read_csv('after_prepros_youtong.csv', encoding='cp949')\n",
    "del df['Unnamed: 0']\n",
    "df = df[2:].reset_index(drop=True)\n",
    "df = df[df['cor_name']!='현대오토에버']"
   ]
  },
  {
   "cell_type": "code",
   "execution_count": 3,
   "id": "b743beee",
   "metadata": {},
   "outputs": [],
   "source": [
    "del df['pre_demand_day']\n",
    "del df['subs_day']\n",
    "del df['cor_name']\n",
    "\n",
    "df['sicho_p']=df['sicho_p'].astype('int64')"
   ]
  },
  {
   "cell_type": "code",
   "execution_count": 4,
   "id": "bdd99aac",
   "metadata": {},
   "outputs": [],
   "source": [
    "x = df[[\"cor_rate\",\"obligation\",\"market_type\",\"listed_date\",\"offer_price\",\"profit_percent\",\"sales\",\"profit\",\"shares_to_pub\",\"sub_rate\",\"l_exp_offer_price\",\"h_exp_offer_price\", \"avail_for_circul\"]].values\n",
    "y = df[\"sicho_p\"].values"
   ]
  },
  {
   "cell_type": "code",
   "execution_count": 5,
   "id": "8625687b",
   "metadata": {},
   "outputs": [],
   "source": [
    "from sklearn import preprocessing\n",
    "min_max_scaler = preprocessing.MinMaxScaler()\n",
    "x = min_max_scaler.fit_transform(x)"
   ]
  },
  {
   "cell_type": "code",
   "execution_count": 6,
   "id": "f7b164e1",
   "metadata": {},
   "outputs": [],
   "source": [
    "from sklearn.model_selection import train_test_split\n",
    "x_train, x_test,y_train,y_test = train_test_split(x, y, train_size=0.8,test_size=0.2,random_state = 1)"
   ]
  },
  {
   "cell_type": "code",
   "execution_count": 7,
   "id": "c342949f",
   "metadata": {},
   "outputs": [],
   "source": [
    "from sklearn.linear_model import LinearRegression, Ridge, Lasso, ElasticNet\n",
    "from sklearn.linear_model import LassoCV , ElasticNetCV , RidgeCV\n",
    "from sklearn.preprocessing import PolynomialFeatures\n",
    "from sklearn.decomposition import PCA \n",
    "from sklearn.metrics import mean_squared_error as mse\n",
    "from sklearn.metrics import r2_score as r2\n",
    "from sklearn.model_selection import cross_val_score\n",
    "from sklearn.ensemble import GradientBoostingRegressor as GBR\n",
    "from sklearn.ensemble import RandomForestRegressor as RFR\n",
    "from sklearn.cross_decomposition import PLSRegression as  PLS\n",
    "from sklearn.svm import SVR\n",
    "from sklearn.kernel_ridge import KernelRidge\n",
    "from sklearn.model_selection import ShuffleSplit\n",
    "from sklearn.pipeline import Pipeline\n",
    "from sklearn.preprocessing import MinMaxScaler\n",
    "from sklearn.model_selection import GridSearchCV"
   ]
  },
  {
   "cell_type": "code",
   "execution_count": 8,
   "id": "38d4ae2f",
   "metadata": {},
   "outputs": [
    {
     "name": "stdout",
     "output_type": "stream",
     "text": [
      "finish\n"
     ]
    }
   ],
   "source": [
    "cv = ShuffleSplit(n_splits=5 , test_size=0.3, random_state=42)\n",
    "pipe_linear = Pipeline([\n",
    "                ('msl', MinMaxScaler()),\n",
    "                ('poly', PolynomialFeatures()),\n",
    "                 ('fit', LinearRegression())])\n",
    "pipe_lasso = Pipeline([\n",
    "                ('msl', MinMaxScaler()),\n",
    "                ('poly', PolynomialFeatures()),\n",
    "                 ('fit', Lasso(random_state = 42))])\n",
    "pipe_ridge = Pipeline([\n",
    "                ('msl', MinMaxScaler()),\n",
    "                ('poly', PolynomialFeatures()),\n",
    "                 ('fit', Ridge(random_state = 42))])\n",
    "pipe_pca = Pipeline([\n",
    "                ('msl', MinMaxScaler()),\n",
    "                ('pca', PCA()),\n",
    "                 ('fit', Ridge(random_state = 42))])\n",
    "pipe_pls = Pipeline([\n",
    "                ('msl', MinMaxScaler()),\n",
    "                 ('fit', PLS())])\n",
    "pipe_gbr = Pipeline([\n",
    "                ('msl', MinMaxScaler()),\n",
    "                 ('fit', GBR())])\n",
    "pipe_rfr = Pipeline([\n",
    "                ('msl', MinMaxScaler()),\n",
    "                 ('fit', RFR())])\n",
    "pipe_svr = Pipeline([\n",
    "                ('msl', MinMaxScaler()),\n",
    "                 ('fit', SVR())])\n",
    "\n",
    "pipe_KR = Pipeline([\n",
    "                ('msl', MinMaxScaler()),\n",
    "                 ('fit', KernelRidge())])\n",
    "                 \n",
    "                 \n",
    "### \n",
    "\n",
    "grid_params_linear = [{\n",
    "    \"poly__degree\" : np.arange(1,3), \n",
    "    \"fit__fit_intercept\" : [True, False], \n",
    "}]\n",
    "grid_params_lasso = [{\n",
    "    \"poly__degree\" : np.arange(1,3),\n",
    "    \"fit__tol\" : np.logspace(-5,0,10) ,\n",
    "    \"fit__alpha\" : np.logspace(-5,1,10) ,     \n",
    "                     }]\n",
    "grid_params_pca = [{\n",
    "    \"pca__n_components\" : np.arange(2,8)\n",
    "}]\n",
    "grid_params_ridge = [{\n",
    "    \"poly__degree\" : np.arange(1,3),\n",
    "    \"fit__alpha\" : np.linspace(2,5,10) ,\n",
    "    \"fit__solver\" : [ \"cholesky\",\"lsqr\",\"sparse_cg\"] ,\n",
    "    \"fit__tol\" : np.logspace(-5,0,10) ,\n",
    "                     }]\n",
    "grid_params_pls = [{\n",
    "    \"fit__n_components\" : np.arange(2,8)\n",
    "}]\n",
    "min_samples_split_range = [0.5, 0.7 , 0.9]\n",
    "\n",
    "grid_params_gbr =[{\n",
    "    \"fit__max_features\" : [\"sqrt\",\"log2\"] ,\n",
    "    \"fit__loss\" : [\"ls\",\"lad\",\"huber\",\"quantile\"] , \n",
    "    \"fit__max_depth\" : [5,6,7,8] ,\n",
    "    \"fit__min_samples_split\" : min_samples_split_range ,\n",
    "}]\n",
    "grid_params_rfr =[{\n",
    "    \"fit__max_features\" : [\"sqrt\",\"log2\"] , \n",
    "    \"fit__max_depth\" : [5,6,7,8] ,\n",
    "    \"fit__min_samples_split\" : min_samples_split_range ,\n",
    "}]\n",
    "grid_params_svr =[{\n",
    "    \"fit__kernel\" : [\"rbf\", \"linear\"] ,\n",
    "    \"fit__degree\" : [2, 3, 5] , \n",
    "    \"fit__gamma\" : np.logspace(-5,1,10) ,\n",
    "}]\n",
    "grid_params_KR =[{\n",
    "    \"fit__kernel\" : [\"rbf\",\"linear\"] , \n",
    "    #\"fit__gamma\" : np.logspace(-5,1,10) ,\n",
    "    \"fit__gamma\" : np.logspace(-5,1,10) ,\n",
    "}]\n",
    "pipe = [\n",
    "    pipe_linear , pipe_lasso ,  pipe_pca ,\n",
    "    pipe_ridge , pipe_pls , pipe_gbr , \n",
    "    pipe_rfr , pipe_svr , pipe_KR \n",
    "]\n",
    "\n",
    "params = [\n",
    "    grid_params_linear , grid_params_lasso , grid_params_pca,\n",
    "    grid_params_ridge , grid_params_pls , grid_params_gbr ,\n",
    "    grid_params_rfr , grid_params_svr , grid_params_KR\n",
    "]\n",
    "\n",
    "jobs = 20\n",
    "\n",
    "grid_dict = {\n",
    "    0: 'Linear', \n",
    "    1: 'Lasso', \n",
    "    2: 'pca regression' , \n",
    "    3: 'Ridge' ,\n",
    "    4: 'PLSRegression',\n",
    "    5: \"GradientDescentRegressor\" ,\n",
    "    6: \"RandomForestRegressor\" ,\n",
    "    7: \"SupportVectorRegressor\" ,\n",
    "    8: \"Kernel RidgeRegression\"\n",
    "            }\n",
    "\n",
    "model_mse = {}\n",
    "model_r2 = {}\n",
    "model_best_params = {}\n",
    "\n",
    "for idx , (param , model) in enumerate(zip(params , pipe)) :\n",
    "    search = GridSearchCV(model, param, scoring  = \"neg_mean_squared_error\" , \n",
    "                          cv=cv , n_jobs=jobs , verbose=-1 )\n",
    "    search.fit(x_train , y_train)\n",
    "    y_pred = search.predict(x_test)\n",
    "    model_mse[grid_dict.get(idx)] = mse(y_test, y_pred)  \n",
    "    model_r2[grid_dict.get(idx)] = r2(y_test, y_pred)  \n",
    "    model_best_params[grid_dict.get(idx)] = search.best_params_\n",
    "print(\"finish\")"
   ]
  },
  {
   "cell_type": "code",
   "execution_count": 9,
   "id": "2bff600c",
   "metadata": {},
   "outputs": [
    {
     "data": {
      "image/png": "[encoded data removed]",
      "text/plain": [
       "<Figure size 1440x720 with 1 Axes>"
      ]
     },
     "metadata": {
      "needs_background": "light"
     },
     "output_type": "display_data"
    }
   ],
   "source": [
    "fig ,ax = plt.subplots(figsize=(20, 10))\n",
    "sns.set(font_scale = 2)\n",
    "output = pd.DataFrame([model_r2.keys() , model_r2.values()], index = [\"algo\",\"r2\"]).T\n",
    "output.sort_values([\"r2\"], ascending= False ,inplace=True)\n",
    "ax = sns.barplot(y=\"algo\", x=\"r2\", data=output)\n",
    "plt.show()"
   ]
  },
  {
   "cell_type": "code",
   "execution_count": null,
   "id": "b205cf8b",
   "metadata": {},
   "outputs": [],
   "source": []
  }
 ],
 "metadata": {
  "kernelspec": {
   "display_name": "Python 3 (ipykernel)",
   "language": "python",
   "name": "python3"
  },
  "language_info": {
   "codemirror_mode": {
    "name": "ipython",
    "version": 3
   },
   "file_extension": ".py",
   "mimetype": "text/x-python",
   "name": "python",
   "nbconvert_exporter": "python",
   "pygments_lexer": "ipython3",
   "version": "3.9.7"
  }
 },
 "nbformat": 4,
 "nbformat_minor": 5
}
