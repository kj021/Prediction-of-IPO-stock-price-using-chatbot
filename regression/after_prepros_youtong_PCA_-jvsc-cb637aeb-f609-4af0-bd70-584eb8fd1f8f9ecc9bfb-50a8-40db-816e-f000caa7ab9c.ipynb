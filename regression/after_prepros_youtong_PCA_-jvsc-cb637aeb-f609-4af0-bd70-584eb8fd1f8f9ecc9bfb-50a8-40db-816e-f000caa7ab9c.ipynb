{
 "cells": [
  {
   "cell_type": "code",
   "execution_count": null,
   "metadata": {},
   "outputs": [],
   "source": []
  }
 ],
 "metadata": {
  "kernelspec": {
   "display_name": "Python 3.8.12 ('tensorgpu')",
   "language": "python",
   "name": "python3"
  },
  "language_info": {
   "name": "python",
   "version": "3.8.12"
  },
  "vscode": {
   "interpreter": {
    "hash": "9e7368bec0d5236decd06a10fffb6860fea51ecb0071c6240ea59336731a4800"
   }
  }
 },
 "nbformat": 4,
 "nbformat_minor": 5
}
