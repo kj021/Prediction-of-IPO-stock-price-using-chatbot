{
 "cells": [
  {
   "cell_type": "code",
   "execution_count": 1,
   "metadata": {},
   "outputs": [],
   "source": [
    "import pandas as pd\n",
    "import numpy as np\n",
    "import seaborn as sns\n",
    "from sklearn import preprocessing\n",
    "import matplotlib.pyplot as plt\n",
    "%matplotlib inline"
   ]
  },
  {
   "cell_type": "code",
   "execution_count": 2,
   "metadata": {},
   "outputs": [
    {
     "data": {
      "text/html": [
       "<div>\n",
       "<style scoped>\n",
       "    .dataframe tbody tr th:only-of-type {\n",
       "        vertical-align: middle;\n",
       "    }\n",
       "\n",
       "    .dataframe tbody tr th {\n",
       "        vertical-align: top;\n",
       "    }\n",
       "\n",
       "    .dataframe thead th {\n",
       "        text-align: right;\n",
       "    }\n",
       "</style>\n",
       "<table border=\"1\" class=\"dataframe\">\n",
       "  <thead>\n",
       "    <tr style=\"text-align: right;\">\n",
       "      <th></th>\n",
       "      <th>Unnamed: 0</th>\n",
       "      <th>기업명</th>\n",
       "      <th>매출액(백만원)</th>\n",
       "      <th>순이익(백만원)</th>\n",
       "      <th>구주매출</th>\n",
       "      <th>희망공모가(최저)</th>\n",
       "      <th>희망공모가(최고)</th>\n",
       "      <th>청약경쟁률(:1)</th>\n",
       "      <th>확정공모가(원)</th>\n",
       "      <th>경쟁률(:1)</th>\n",
       "      <th>의무보유확약(:1)</th>\n",
       "      <th>시초/공모%(수익률)</th>\n",
       "      <th>공모가(원)</th>\n",
       "      <th>시초가(원)</th>\n",
       "      <th>상장일</th>\n",
       "    </tr>\n",
       "  </thead>\n",
       "  <tbody>\n",
       "    <tr>\n",
       "      <th>0</th>\n",
       "      <td>0</td>\n",
       "      <td>에이치피에스피</td>\n",
       "      <td>61174.0</td>\n",
       "      <td>17658.0</td>\n",
       "      <td>1.00</td>\n",
       "      <td>23000.0</td>\n",
       "      <td>25000.0</td>\n",
       "      <td>1159.05</td>\n",
       "      <td>25000</td>\n",
       "      <td>1511.36</td>\n",
       "      <td>42.54</td>\n",
       "      <td>100.00</td>\n",
       "      <td>25000</td>\n",
       "      <td>50000</td>\n",
       "      <td>20220715</td>\n",
       "    </tr>\n",
       "    <tr>\n",
       "      <th>1</th>\n",
       "      <td>1</td>\n",
       "      <td>영창케미칼</td>\n",
       "      <td>60760.0</td>\n",
       "      <td>2506.0</td>\n",
       "      <td>0.83</td>\n",
       "      <td>15000.0</td>\n",
       "      <td>18600.0</td>\n",
       "      <td>682.13</td>\n",
       "      <td>18600</td>\n",
       "      <td>1616.27</td>\n",
       "      <td>5.92</td>\n",
       "      <td>-1.08</td>\n",
       "      <td>18600</td>\n",
       "      <td>18400</td>\n",
       "      <td>20220714</td>\n",
       "    </tr>\n",
       "    <tr>\n",
       "      <th>2</th>\n",
       "      <td>2</td>\n",
       "      <td>넥스트칩</td>\n",
       "      <td>10383.0</td>\n",
       "      <td>-13496.0</td>\n",
       "      <td>1.00</td>\n",
       "      <td>9900.0</td>\n",
       "      <td>11600.0</td>\n",
       "      <td>1727.38</td>\n",
       "      <td>13000</td>\n",
       "      <td>1623.41</td>\n",
       "      <td>11.58</td>\n",
       "      <td>31.92</td>\n",
       "      <td>13000</td>\n",
       "      <td>17150</td>\n",
       "      <td>20220701</td>\n",
       "    </tr>\n",
       "    <tr>\n",
       "      <th>3</th>\n",
       "      <td>3</td>\n",
       "      <td>위니아에이드</td>\n",
       "      <td>418527.0</td>\n",
       "      <td>24895.0</td>\n",
       "      <td>1.00</td>\n",
       "      <td>14200.0</td>\n",
       "      <td>16200.0</td>\n",
       "      <td>111.26</td>\n",
       "      <td>16200</td>\n",
       "      <td>955.00</td>\n",
       "      <td>1.39</td>\n",
       "      <td>-9.88</td>\n",
       "      <td>16200</td>\n",
       "      <td>14600</td>\n",
       "      <td>20220623</td>\n",
       "    </tr>\n",
       "    <tr>\n",
       "      <th>4</th>\n",
       "      <td>4</td>\n",
       "      <td>레이저쎌</td>\n",
       "      <td>3879.0</td>\n",
       "      <td>-7665.0</td>\n",
       "      <td>1.00</td>\n",
       "      <td>12000.0</td>\n",
       "      <td>14000.0</td>\n",
       "      <td>1845.11</td>\n",
       "      <td>16000</td>\n",
       "      <td>1442.95</td>\n",
       "      <td>12.43</td>\n",
       "      <td>28.75</td>\n",
       "      <td>16000</td>\n",
       "      <td>20600</td>\n",
       "      <td>20220624</td>\n",
       "    </tr>\n",
       "  </tbody>\n",
       "</table>\n",
       "</div>"
      ],
      "text/plain": [
       "   Unnamed: 0      기업명  매출액(백만원)  순이익(백만원)  구주매출  희망공모가(최저)  희망공모가(최고)  \\\n",
       "0           0  에이치피에스피   61174.0   17658.0  1.00    23000.0    25000.0   \n",
       "1           1    영창케미칼   60760.0    2506.0  0.83    15000.0    18600.0   \n",
       "2           2     넥스트칩   10383.0  -13496.0  1.00     9900.0    11600.0   \n",
       "3           3   위니아에이드  418527.0   24895.0  1.00    14200.0    16200.0   \n",
       "4           4     레이저쎌    3879.0   -7665.0  1.00    12000.0    14000.0   \n",
       "\n",
       "   청약경쟁률(:1)  확정공모가(원)  경쟁률(:1)  의무보유확약(:1)  시초/공모%(수익률)  공모가(원)  시초가(원)  \\\n",
       "0    1159.05     25000  1511.36       42.54       100.00   25000   50000   \n",
       "1     682.13     18600  1616.27        5.92        -1.08   18600   18400   \n",
       "2    1727.38     13000  1623.41       11.58        31.92   13000   17150   \n",
       "3     111.26     16200   955.00        1.39        -9.88   16200   14600   \n",
       "4    1845.11     16000  1442.95       12.43        28.75   16000   20600   \n",
       "\n",
       "        상장일  \n",
       "0  20220715  \n",
       "1  20220714  \n",
       "2  20220701  \n",
       "3  20220623  \n",
       "4  20220624  "
      ]
     },
     "execution_count": 2,
     "metadata": {},
     "output_type": "execute_result"
    }
   ],
   "source": [
    "data1 = pd.read_csv('refined_data.csv')\n",
    "data1.head()"
   ]
  },
  {
   "cell_type": "code",
   "execution_count": 3,
   "metadata": {},
   "outputs": [],
   "source": [
    "from sklearn.model_selection import train_test_split\n",
    "x= data1[[\"희망공모가(최고)\",\"청약경쟁률(:1)\",\"확정공모가(원)\",\"경쟁률(:1)\",\"의무보유확약(:1)\"]]\n",
    "y= data1[\"시초/공모%(수익률)\"]"
   ]
  },
  {
   "cell_type": "code",
   "execution_count": 4,
   "metadata": {},
   "outputs": [],
   "source": [
    "x_train, x_test,y_train,y_test = train_test_split(x, y, train_size=0.8,test_size=0.2,random_state = 1)\n",
    "#8:2의 비율로 training, test set 분리"
   ]
  },
  {
   "cell_type": "code",
   "execution_count": 5,
   "metadata": {},
   "outputs": [
    {
     "name": "stdout",
     "output_type": "stream",
     "text": [
      "(316, 5)\n",
      "(80, 5)\n",
      "174      5.31\n",
      "358     78.57\n",
      "249    100.00\n",
      "273      9.03\n",
      "339      9.52\n",
      "        ...  \n",
      "146     73.53\n",
      "287      0.42\n",
      "222     24.17\n",
      "159     81.56\n",
      "23     100.00\n",
      "Name: 시초/공모%(수익률), Length: 80, dtype: float64\n"
     ]
    }
   ],
   "source": [
    "print(x_train.shape)\n",
    "print(x_test.shape)\n",
    "print(y_test)"
   ]
  },
  {
   "cell_type": "code",
   "execution_count": 6,
   "metadata": {},
   "outputs": [],
   "source": [
    "from sklearn.linear_model import LinearRegression, Ridge, Lasso, ElasticNet\n",
    "from sklearn.linear_model import LassoCV , ElasticNetCV , RidgeCV\n",
    "from sklearn.preprocessing import PolynomialFeatures\n",
    "from sklearn.decomposition import PCA \n",
    "from sklearn.metrics import mean_squared_error as mse\n",
    "from sklearn.metrics import r2_score as r2\n",
    "from sklearn.model_selection import cross_val_score\n",
    "from sklearn.ensemble import GradientBoostingRegressor as GBR\n",
    "from sklearn.ensemble import RandomForestRegressor as RFR\n",
    "from sklearn.cross_decomposition import PLSRegression as  PLS\n",
    "from sklearn.svm import SVR\n",
    "from sklearn.kernel_ridge import KernelRidge\n",
    "from sklearn.model_selection import ShuffleSplit\n",
    "from sklearn.pipeline import Pipeline\n",
    "from sklearn.preprocessing import StandardScaler\n",
    "from sklearn.preprocessing import MinMaxScaler\n",
    "from sklearn.model_selection import GridSearchCV"
   ]
  },
  {
   "cell_type": "code",
   "execution_count": 7,
   "metadata": {},
   "outputs": [
    {
     "name": "stderr",
     "output_type": "stream",
     "text": [
      "[Parallel(n_jobs=20)]: Using backend LokyBackend with 20 concurrent workers.\n",
      "[Parallel(n_jobs=20)]: Done  20 out of  20 | elapsed:   19.9s finished\n",
      "[Parallel(n_jobs=20)]: Using backend LokyBackend with 20 concurrent workers.\n",
      "[Parallel(n_jobs=20)]: Done  32 tasks      | elapsed:    0.3s\n",
      "[Parallel(n_jobs=20)]: Done 456 tasks      | elapsed:    2.3s\n",
      "[Parallel(n_jobs=20)]: Done 1000 out of 1000 | elapsed:    4.7s finished\n",
      "[Parallel(n_jobs=20)]: Using backend LokyBackend with 20 concurrent workers.\n",
      "[Parallel(n_jobs=20)]: Done  20 out of  30 | elapsed:    0.2s remaining:    0.0s\n",
      "[Parallel(n_jobs=20)]: Done  30 out of  30 | elapsed:    0.2s finished\n",
      "[Parallel(n_jobs=20)]: Using backend LokyBackend with 20 concurrent workers.\n",
      "[Parallel(n_jobs=20)]: Done  32 tasks      | elapsed:    0.3s\n",
      "[Parallel(n_jobs=20)]: Done 456 tasks      | elapsed:    2.2s\n",
      "[Parallel(n_jobs=20)]: Done 1176 tasks      | elapsed:    4.9s\n",
      "[Parallel(n_jobs=20)]: Done 2184 tasks      | elapsed:    9.0s\n",
      "[Parallel(n_jobs=20)]: Done 3000 out of 3000 | elapsed:   12.4s finished\n",
      "[Parallel(n_jobs=20)]: Using backend LokyBackend with 20 concurrent workers.\n",
      "[Parallel(n_jobs=20)]: Done  20 out of  30 | elapsed:    0.1s remaining:    0.0s\n",
      "[Parallel(n_jobs=20)]: Done  30 out of  30 | elapsed:    0.1s finished\n",
      "[Parallel(n_jobs=20)]: Using backend LokyBackend with 20 concurrent workers.\n",
      "[Parallel(n_jobs=20)]: Done  32 tasks      | elapsed:    1.0s\n",
      "[Parallel(n_jobs=20)]: Done 248 tasks      | elapsed:    8.0s\n",
      "[Parallel(n_jobs=20)]: Done 480 out of 480 | elapsed:   18.2s finished\n",
      "[Parallel(n_jobs=20)]: Using backend LokyBackend with 20 concurrent workers.\n",
      "[Parallel(n_jobs=20)]: Done  32 tasks      | elapsed:    1.9s\n",
      "[Parallel(n_jobs=20)]: Done 120 out of 120 | elapsed:    6.4s finished\n",
      "[Parallel(n_jobs=20)]: Using backend LokyBackend with 20 concurrent workers.\n",
      "[Parallel(n_jobs=20)]: Done  32 tasks      | elapsed:    0.2s\n",
      "[Parallel(n_jobs=20)]: Done 300 out of 300 | elapsed:    1.1s finished\n",
      "[Parallel(n_jobs=20)]: Using backend LokyBackend with 20 concurrent workers.\n",
      "[Parallel(n_jobs=20)]: Done  32 tasks      | elapsed:    0.2s\n",
      "[Parallel(n_jobs=20)]: Done 100 out of 100 | elapsed:    0.3s finished\n"
     ]
    },
    {
     "name": "stdout",
     "output_type": "stream",
     "text": [
      "finish\n"
     ]
    }
   ],
   "source": [
    "cv = ShuffleSplit(n_splits=5 , test_size=0.3, random_state=42)\n",
    "pipe_linear = Pipeline([\n",
    "                ('mms', MinMaxScaler()),\n",
    "                ('poly', PolynomialFeatures()),\n",
    "                 ('fit', LinearRegression())])\n",
    "pipe_lasso = Pipeline([\n",
    "                ('mms', MinMaxScaler()),\n",
    "                ('poly', PolynomialFeatures()),\n",
    "                 ('fit', Lasso(random_state = 42))])\n",
    "pipe_ridge = Pipeline([\n",
    "                ('mms', MinMaxScaler()),\n",
    "                ('poly', PolynomialFeatures()),\n",
    "                 ('fit', Ridge(random_state = 42))])\n",
    "pipe_pca = Pipeline([\n",
    "                ('mms', MinMaxScaler()),\n",
    "                ('pca', PCA()),\n",
    "                 ('fit', Ridge(random_state = 42))])\n",
    "pipe_pls = Pipeline([\n",
    "                ('mms', MinMaxScaler()),\n",
    "                 ('fit', PLS())])\n",
    "pipe_gbr = Pipeline([\n",
    "                ('mms', MinMaxScaler()),\n",
    "                 ('fit', GBR())])\n",
    "pipe_rfr = Pipeline([\n",
    "                ('mms', MinMaxScaler()),\n",
    "                 ('fit', RFR())])\n",
    "pipe_svr = Pipeline([\n",
    "                ('mms', MinMaxScaler()),\n",
    "                 ('fit', SVR())])\n",
    "\n",
    "pipe_KR = Pipeline([\n",
    "                ('mms', MinMaxScaler()),\n",
    "                 ('fit', KernelRidge())])\n",
    "                 \n",
    "                 \n",
    "### \n",
    "\n",
    "grid_params_linear = [{\n",
    "    \"poly__degree\" : np.arange(1,3), \n",
    "    \"fit__fit_intercept\" : [True, False], \n",
    "}]\n",
    "grid_params_lasso = [{\n",
    "    \"poly__degree\" : np.arange(1,3),\n",
    "    \"fit__tol\" : np.logspace(-5,0,10) ,\n",
    "    \"fit__alpha\" : np.logspace(-5,1,10) ,     \n",
    "                     }]\n",
    "grid_params_pca = [{\n",
    "    \"pca__n_components\" : np.arange(2,8)\n",
    "}]\n",
    "grid_params_ridge = [{\n",
    "    \"poly__degree\" : np.arange(1,3),\n",
    "    \"fit__alpha\" : np.linspace(2,5,10) ,\n",
    "    \"fit__solver\" : [ \"cholesky\",\"lsqr\",\"sparse_cg\"] ,\n",
    "    \"fit__tol\" : np.logspace(-5,0,10) ,\n",
    "                     }]\n",
    "grid_params_pls = [{\n",
    "    \"fit__n_components\" : np.arange(2,8)\n",
    "}]\n",
    "min_samples_split_range = [0.5, 0.7 , 0.9]\n",
    "\n",
    "grid_params_gbr =[{\n",
    "    \"fit__max_features\" : [\"sqrt\",\"log2\"] ,\n",
    "    \"fit__loss\" : [\"ls\",\"lad\",\"huber\",\"quantile\"] , \n",
    "    \"fit__max_depth\" : [5,6,7,8] ,\n",
    "    \"fit__min_samples_split\" : min_samples_split_range ,\n",
    "}]\n",
    "grid_params_rfr =[{\n",
    "    \"fit__max_features\" : [\"sqrt\",\"log2\"] , \n",
    "    \"fit__max_depth\" : [5,6,7,8] ,\n",
    "    \"fit__min_samples_split\" : min_samples_split_range ,\n",
    "}]\n",
    "grid_params_svr =[{\n",
    "    \"fit__kernel\" : [\"rbf\", \"linear\"] ,\n",
    "    \"fit__degree\" : [2, 3, 5] , \n",
    "    \"fit__gamma\" : np.logspace(-5,1,10) ,\n",
    "}]\n",
    "grid_params_KR =[{\n",
    "    \"fit__kernel\" : [\"rbf\",\"linear\"] , \n",
    "    \"fit__gamma\" : np.logspace(-5,1,10) ,\n",
    "}]\n",
    "pipe = [\n",
    "    pipe_linear , pipe_lasso ,  pipe_pca ,\n",
    "    pipe_ridge , pipe_pls , pipe_gbr , \n",
    "    pipe_rfr , pipe_svr , pipe_KR \n",
    "]\n",
    "\n",
    "params = [\n",
    "    grid_params_linear , grid_params_lasso , grid_params_pca,\n",
    "    grid_params_ridge , grid_params_pls , grid_params_gbr ,\n",
    "    grid_params_rfr , grid_params_svr , grid_params_KR\n",
    "]\n",
    "\n",
    "jobs = 20\n",
    "\n",
    "grid_dict = {\n",
    "    0: 'Linear', \n",
    "    1: 'Lasso', \n",
    "    2: 'pca regression' , \n",
    "    3: 'Ridge' ,\n",
    "    4: 'PLSRegression',\n",
    "    5: \"GradientDescentRegressor\" ,\n",
    "    6: \"RandomForestRegressor\" ,\n",
    "    7: \"SupportVectorRegressor\" ,\n",
    "    8: \"Kernel RidgeRegression\"\n",
    "            }\n",
    "\n",
    "model_mse = {}\n",
    "model_r2 = {}\n",
    "model_best_params = {}\n",
    "\n",
    "for idx , (param , model) in enumerate(zip(params , pipe)) :\n",
    "    search = GridSearchCV(model, param, scoring  = \"neg_mean_squared_error\" , \n",
    "                          cv=cv , n_jobs=jobs , verbose=-1 )\n",
    "    search.fit(x_train , y_train)\n",
    "    y_pred = search.predict(x_test)\n",
    "    model_mse[grid_dict.get(idx)] = mse(y_test, y_pred)  \n",
    "    model_r2[grid_dict.get(idx)] = r2(y_test, y_pred)  \n",
    "    model_best_params[grid_dict.get(idx)] = search.best_params_\n",
    "print(\"finish\")"
   ]
  },
  {
   "cell_type": "code",
   "execution_count": 8,
   "metadata": {},
   "outputs": [
    {
     "data": {
      "image/png": "[encoded data removed]",
      "text/plain": [
       "<Figure size 1440x720 with 1 Axes>"
      ]
     },
     "metadata": {
      "needs_background": "light"
     },
     "output_type": "display_data"
    }
   ],
   "source": [
    "fig ,ax = plt.subplots(figsize=(20, 10))\n",
    "sns.set(font_scale = 2)\n",
    "output = pd.DataFrame([model_r2.keys() , model_r2.values()], index = [\"algo\",\"r2\"]).T\n",
    "output.sort_values([\"r2\"], ascending= False ,inplace=True)\n",
    "ax = sns.barplot(y=\"algo\", x=\"r2\", data=output)\n",
    "plt.show()"
   ]
  },
  {
   "cell_type": "code",
   "execution_count": 9,
   "metadata": {},
   "outputs": [
    {
     "data": {
      "text/plain": [
       "{'Linear': {'fit__fit_intercept': True, 'poly__degree': 1},\n",
       " 'Lasso': {'fit__alpha': 0.021544346900318822,\n",
       "  'fit__tol': 0.005994842503189409,\n",
       "  'poly__degree': 2},\n",
       " 'pca regression': {'pca__n_components': 5},\n",
       " 'Ridge': {'fit__alpha': 2.0,\n",
       "  'fit__solver': 'lsqr',\n",
       "  'fit__tol': 0.005994842503189409,\n",
       "  'poly__degree': 2},\n",
       " 'PLSRegression': {'fit__n_components': 5},\n",
       " 'GradientDescentRegressor': {'fit__loss': 'ls',\n",
       "  'fit__max_depth': 6,\n",
       "  'fit__max_features': 'sqrt',\n",
       "  'fit__min_samples_split': 0.7},\n",
       " 'RandomForestRegressor': {'fit__max_depth': 6,\n",
       "  'fit__max_features': 'sqrt',\n",
       "  'fit__min_samples_split': 0.5},\n",
       " 'SupportVectorRegressor': {'fit__degree': 2,\n",
       "  'fit__gamma': 2.154434690031882,\n",
       "  'fit__kernel': 'rbf'},\n",
       " 'Kernel RidgeRegression': {'fit__gamma': 2.154434690031882,\n",
       "  'fit__kernel': 'rbf'}}"
      ]
     },
     "execution_count": 9,
     "metadata": {},
     "output_type": "execute_result"
    }
   ],
   "source": [
    "#model_r2\n",
    "model_r2\n",
    "model_best_params"
   ]
  },
  {
   "cell_type": "code",
   "execution_count": 10,
   "metadata": {},
   "outputs": [
    {
     "data": {
      "text/plain": [
       "Lasso(alpha=0.004641588833612777)"
      ]
     },
     "execution_count": 10,
     "metadata": {},
     "output_type": "execute_result"
    }
   ],
   "source": [
    "from sklearn.linear_model import Lasso\n",
    "model.fit(x_train, y_train)\n",
    "lasso = Lasso(alpha=0.004641588833612777).fit(x_train, y_train)\n",
    "prd = lasso\n",
    "prd.fit(x_train,y_train)"
   ]
  },
  {
   "cell_type": "code",
   "execution_count": 11,
   "metadata": {},
   "outputs": [],
   "source": [
    "y_predict = prd.predict(x_test)"
   ]
  },
  {
   "cell_type": "code",
   "execution_count": 12,
   "metadata": {},
   "outputs": [],
   "source": [
    "import matplotlib.pyplot as plt\n",
    "plt.rc('font', family='NanumBarunGothic')\n",
    "plt.rcParams['axes.unicode_minus'] = False"
   ]
  },
  {
   "cell_type": "code",
   "execution_count": 14,
   "metadata": {},
   "outputs": [],
   "source": [
    "import matplotlib.pyplot as plt\n",
    "plt.rc('font', family='Malgun Gothic')\n",
    "plt.rcParams['axes.unicode_minus'] = False"
   ]
  },
  {
   "cell_type": "code",
   "execution_count": 15,
   "metadata": {},
   "outputs": [
    {
     "data": {
      "image/png": "[encoded data removed]",
      "text/plain": [
       "<Figure size 432x288 with 1 Axes>"
      ]
     },
     "metadata": {},
     "output_type": "display_data"
    }
   ],
   "source": [
    "plt.scatter(y_test, y_predict, alpha = 0.4)\n",
    "plt.xlabel(\"Actual Rent\")\n",
    "plt.ylabel(\"Predicted Rent\")\n",
    "plt.title(\"MULTIPLE LINEAR REGRESSION\")\n",
    "plt.show()"
   ]
  },
  {
   "cell_type": "code",
   "execution_count": 16,
   "metadata": {},
   "outputs": [],
   "source": [
    "from sklearn.metrics import mean_absolute_error\n",
    "mae_test=mean_absolute_error(y_test,y_predict)\n",
    "#수치가 낮을수록 정확도가 높음\n",
    "from sklearn.metrics import mean_squared_error\n",
    "mse_test=mean_squared_error(y_test, y_predict)\n",
    "#수치가 낮을수록 정확도가 높음\n",
    "from sklearn.metrics import r2_score\n",
    "r2_score=r2_score(y_test, y_predict)"
   ]
  },
  {
   "cell_type": "code",
   "execution_count": 17,
   "metadata": {},
   "outputs": [
    {
     "name": "stdout",
     "output_type": "stream",
     "text": [
      "lasso regression: Mean squared error: 756.854335\n",
      "lasso regression: Mean_absolute_error: 23.143115\n",
      "lasso regression: r2_score: 0.522454\n"
     ]
    }
   ],
   "source": [
    "print('lasso regression: Mean squared error: %f' %(mse_test)) \n",
    "print('lasso regression: Mean_absolute_error: %f' %(mae_test)) \n",
    "print('lasso regression: r2_score: %f' %(r2_score))"
   ]
  },
  {
   "cell_type": "code",
   "execution_count": 18,
   "metadata": {},
   "outputs": [
    {
     "data": {
      "text/plain": [
       "['saved_model.pkl']"
      ]
     },
     "execution_count": 18,
     "metadata": {},
     "output_type": "execute_result"
    }
   ],
   "source": [
    "import joblib\n",
    "joblib.dump(prd, 'saved_model.pkl')"
   ]
  },
  {
   "cell_type": "code",
   "execution_count": 19,
   "metadata": {},
   "outputs": [],
   "source": [
    "import joblib\n",
    "prd = joblib.load('saved_model.pkl')"
   ]
  },
  {
   "cell_type": "code",
   "execution_count": 20,
   "metadata": {},
   "outputs": [],
   "source": [
    "import pickle\n",
    "with open('saved_model.pickle','wb') as fw:\n",
    "    pickle.dump(prd,fw)"
   ]
  },
  {
   "cell_type": "code",
   "execution_count": 21,
   "metadata": {},
   "outputs": [],
   "source": [
    "import pickle\n",
    "with open('saved_model.pickle','rb') as f:\n",
    "    model3 = pickle.load(f)"
   ]
  },
  {
   "cell_type": "code",
   "execution_count": 22,
   "metadata": {},
   "outputs": [
    {
     "data": {
      "text/plain": [
       "Lasso(alpha=0.004641588833612777)"
      ]
     },
     "execution_count": 22,
     "metadata": {},
     "output_type": "execute_result"
    }
   ],
   "source": [
    "model3"
   ]
  },
  {
   "cell_type": "code",
   "execution_count": 23,
   "metadata": {},
   "outputs": [
    {
     "name": "stdout",
     "output_type": "stream",
     "text": [
      "lasso regression: r2_score: 0.522454\n"
     ]
    }
   ],
   "source": [
    "print('lasso regression: r2_score: %f' %(r2_score))"
   ]
  },
  {
   "cell_type": "code",
   "execution_count": null,
   "metadata": {},
   "outputs": [],
   "source": []
  }
 ],
 "metadata": {
  "kernelspec": {
   "display_name": "Python 3.9.12 ('venv1': venv)",
   "language": "python",
   "name": "python3"
  },
  "language_info": {
   "codemirror_mode": {
    "name": "ipython",
    "version": 3
   },
   "file_extension": ".py",
   "mimetype": "text/x-python",
   "name": "python",
   "nbconvert_exporter": "python",
   "pygments_lexer": "ipython3",
   "version": "3.9.12"
  },
  "vscode": {
   "interpreter": {
    "hash": "62778227e4118cb58cbb7b2cb5e245e32fc13eb9a608326b957f7a4856e20e3d"
   }
  }
 },
 "nbformat": 4,
 "nbformat_minor": 4
}
