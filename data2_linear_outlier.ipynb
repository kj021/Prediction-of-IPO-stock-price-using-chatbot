{
 "cells": [
  {
   "cell_type": "markdown",
   "id": "4c2c2a3a",
   "metadata": {},
   "source": [
    "선형회귀 모델"
   ]
  },
  {
   "cell_type": "code",
   "execution_count": 1,
   "id": "de638747",
   "metadata": {},
   "outputs": [],
   "source": [
    "import pandas as pd\n",
    "import numpy as np\n",
    "import matplotlib.pyplot as plt\n",
    "import seaborn as sns"
   ]
  },
  {
   "cell_type": "code",
   "execution_count": 2,
   "id": "79fdba3c",
   "metadata": {},
   "outputs": [
    {
     "data": {
      "text/html": [
       "<div>\n",
       "<style scoped>\n",
       "    .dataframe tbody tr th:only-of-type {\n",
       "        vertical-align: middle;\n",
       "    }\n",
       "\n",
       "    .dataframe tbody tr th {\n",
       "        vertical-align: top;\n",
       "    }\n",
       "\n",
       "    .dataframe thead th {\n",
       "        text-align: right;\n",
       "    }\n",
       "</style>\n",
       "<table border=\"1\" class=\"dataframe\">\n",
       "  <thead>\n",
       "    <tr style=\"text-align: right;\">\n",
       "      <th></th>\n",
       "      <th>Sal</th>\n",
       "      <th>Pro</th>\n",
       "      <th>Sec</th>\n",
       "      <th>Crate</th>\n",
       "      <th>Ofc</th>\n",
       "      <th>Rate</th>\n",
       "      <th>Obr</th>\n",
       "      <th>Tre</th>\n",
       "      <th>Sco</th>\n",
       "      <th>Sum</th>\n",
       "      <th>Tos</th>\n",
       "      <th>Mat</th>\n",
       "      <th>Lda</th>\n",
       "      <th>Pre</th>\n",
       "      <th>Pop</th>\n",
       "      <th>Hpol</th>\n",
       "      <th>Hpoh</th>\n",
       "      <th>Clp</th>\n",
       "      <th>Beg</th>\n",
       "    </tr>\n",
       "  </thead>\n",
       "  <tbody>\n",
       "    <tr>\n",
       "      <th>0</th>\n",
       "      <td>61174</td>\n",
       "      <td>17658</td>\n",
       "      <td>1.00</td>\n",
       "      <td>1159.05</td>\n",
       "      <td>25000</td>\n",
       "      <td>1511.36</td>\n",
       "      <td>42.54</td>\n",
       "      <td>0.75</td>\n",
       "      <td>3</td>\n",
       "      <td>28</td>\n",
       "      <td>0.107</td>\n",
       "      <td>0</td>\n",
       "      <td>20220715</td>\n",
       "      <td>52700</td>\n",
       "      <td>25000</td>\n",
       "      <td>23000</td>\n",
       "      <td>25000</td>\n",
       "      <td>43250</td>\n",
       "      <td>50000</td>\n",
       "    </tr>\n",
       "    <tr>\n",
       "      <th>1</th>\n",
       "      <td>60760</td>\n",
       "      <td>2506</td>\n",
       "      <td>0.83</td>\n",
       "      <td>682.13</td>\n",
       "      <td>18600</td>\n",
       "      <td>1616.27</td>\n",
       "      <td>5.92</td>\n",
       "      <td>0.67</td>\n",
       "      <td>12</td>\n",
       "      <td>45</td>\n",
       "      <td>0.267</td>\n",
       "      <td>0</td>\n",
       "      <td>20220714</td>\n",
       "      <td>14250</td>\n",
       "      <td>18600</td>\n",
       "      <td>15000</td>\n",
       "      <td>18600</td>\n",
       "      <td>16450</td>\n",
       "      <td>18400</td>\n",
       "    </tr>\n",
       "    <tr>\n",
       "      <th>2</th>\n",
       "      <td>10383</td>\n",
       "      <td>-13496</td>\n",
       "      <td>1.00</td>\n",
       "      <td>1727.38</td>\n",
       "      <td>13000</td>\n",
       "      <td>1623.41</td>\n",
       "      <td>11.58</td>\n",
       "      <td>1.00</td>\n",
       "      <td>4</td>\n",
       "      <td>56</td>\n",
       "      <td>0.071</td>\n",
       "      <td>0</td>\n",
       "      <td>20220701</td>\n",
       "      <td>12000</td>\n",
       "      <td>13000</td>\n",
       "      <td>9900</td>\n",
       "      <td>11600</td>\n",
       "      <td>14300</td>\n",
       "      <td>17150</td>\n",
       "    </tr>\n",
       "    <tr>\n",
       "      <th>3</th>\n",
       "      <td>418527</td>\n",
       "      <td>24895</td>\n",
       "      <td>1.00</td>\n",
       "      <td>111.26</td>\n",
       "      <td>16200</td>\n",
       "      <td>955.00</td>\n",
       "      <td>1.39</td>\n",
       "      <td>0.88</td>\n",
       "      <td>0</td>\n",
       "      <td>59</td>\n",
       "      <td>0.000</td>\n",
       "      <td>0</td>\n",
       "      <td>20220623</td>\n",
       "      <td>9330</td>\n",
       "      <td>16200</td>\n",
       "      <td>14200</td>\n",
       "      <td>16200</td>\n",
       "      <td>11000</td>\n",
       "      <td>14600</td>\n",
       "    </tr>\n",
       "    <tr>\n",
       "      <th>4</th>\n",
       "      <td>3879</td>\n",
       "      <td>-7665</td>\n",
       "      <td>1.00</td>\n",
       "      <td>1845.11</td>\n",
       "      <td>16000</td>\n",
       "      <td>1442.95</td>\n",
       "      <td>12.43</td>\n",
       "      <td>0.89</td>\n",
       "      <td>2</td>\n",
       "      <td>54</td>\n",
       "      <td>0.037</td>\n",
       "      <td>0</td>\n",
       "      <td>20220624</td>\n",
       "      <td>12400</td>\n",
       "      <td>16000</td>\n",
       "      <td>12000</td>\n",
       "      <td>14000</td>\n",
       "      <td>17350</td>\n",
       "      <td>20600</td>\n",
       "    </tr>\n",
       "  </tbody>\n",
       "</table>\n",
       "</div>"
      ],
      "text/plain": [
       "      Sal    Pro   Sec    Crate    Ofc     Rate    Obr   Tre  Sco  Sum    Tos  \\\n",
       "0   61174  17658  1.00  1159.05  25000  1511.36  42.54  0.75    3   28  0.107   \n",
       "1   60760   2506  0.83   682.13  18600  1616.27   5.92  0.67   12   45  0.267   \n",
       "2   10383 -13496  1.00  1727.38  13000  1623.41  11.58  1.00    4   56  0.071   \n",
       "3  418527  24895  1.00   111.26  16200   955.00   1.39  0.88    0   59  0.000   \n",
       "4    3879  -7665  1.00  1845.11  16000  1442.95  12.43  0.89    2   54  0.037   \n",
       "\n",
       "   Mat       Lda    Pre    Pop   Hpol   Hpoh    Clp    Beg  \n",
       "0    0  20220715  52700  25000  23000  25000  43250  50000  \n",
       "1    0  20220714  14250  18600  15000  18600  16450  18400  \n",
       "2    0  20220701  12000  13000   9900  11600  14300  17150  \n",
       "3    0  20220623   9330  16200  14200  16200  11000  14600  \n",
       "4    0  20220624  12400  16000  12000  14000  17350  20600  "
      ]
     },
     "execution_count": 2,
     "metadata": {},
     "output_type": "execute_result"
    }
   ],
   "source": [
    "df = pd.read_csv('data2.csv')\n",
    "df.head()"
   ]
  },
  {
   "cell_type": "code",
   "execution_count": 3,
   "id": "78c4a9cf",
   "metadata": {},
   "outputs": [
    {
     "data": {
      "text/html": [
       "<div>\n",
       "<style scoped>\n",
       "    .dataframe tbody tr th:only-of-type {\n",
       "        vertical-align: middle;\n",
       "    }\n",
       "\n",
       "    .dataframe tbody tr th {\n",
       "        vertical-align: top;\n",
       "    }\n",
       "\n",
       "    .dataframe thead th {\n",
       "        text-align: right;\n",
       "    }\n",
       "</style>\n",
       "<table border=\"1\" class=\"dataframe\">\n",
       "  <thead>\n",
       "    <tr style=\"text-align: right;\">\n",
       "      <th></th>\n",
       "      <th>Crate</th>\n",
       "      <th>Ofc</th>\n",
       "      <th>Rate</th>\n",
       "      <th>Obr</th>\n",
       "      <th>Tre</th>\n",
       "      <th>Tos</th>\n",
       "    </tr>\n",
       "  </thead>\n",
       "  <tbody>\n",
       "    <tr>\n",
       "      <th>0</th>\n",
       "      <td>1159.05</td>\n",
       "      <td>25000</td>\n",
       "      <td>1511.36</td>\n",
       "      <td>42.54</td>\n",
       "      <td>0.75</td>\n",
       "      <td>0.107</td>\n",
       "    </tr>\n",
       "    <tr>\n",
       "      <th>1</th>\n",
       "      <td>682.13</td>\n",
       "      <td>18600</td>\n",
       "      <td>1616.27</td>\n",
       "      <td>5.92</td>\n",
       "      <td>0.67</td>\n",
       "      <td>0.267</td>\n",
       "    </tr>\n",
       "    <tr>\n",
       "      <th>2</th>\n",
       "      <td>1727.38</td>\n",
       "      <td>13000</td>\n",
       "      <td>1623.41</td>\n",
       "      <td>11.58</td>\n",
       "      <td>1.00</td>\n",
       "      <td>0.071</td>\n",
       "    </tr>\n",
       "    <tr>\n",
       "      <th>3</th>\n",
       "      <td>111.26</td>\n",
       "      <td>16200</td>\n",
       "      <td>955.00</td>\n",
       "      <td>1.39</td>\n",
       "      <td>0.88</td>\n",
       "      <td>0.000</td>\n",
       "    </tr>\n",
       "    <tr>\n",
       "      <th>4</th>\n",
       "      <td>1845.11</td>\n",
       "      <td>16000</td>\n",
       "      <td>1442.95</td>\n",
       "      <td>12.43</td>\n",
       "      <td>0.89</td>\n",
       "      <td>0.037</td>\n",
       "    </tr>\n",
       "  </tbody>\n",
       "</table>\n",
       "</div>"
      ],
      "text/plain": [
       "     Crate    Ofc     Rate    Obr   Tre    Tos\n",
       "0  1159.05  25000  1511.36  42.54  0.75  0.107\n",
       "1   682.13  18600  1616.27   5.92  0.67  0.267\n",
       "2  1727.38  13000  1623.41  11.58  1.00  0.071\n",
       "3   111.26  16200   955.00   1.39  0.88  0.000\n",
       "4  1845.11  16000  1442.95  12.43  0.89  0.037"
      ]
     },
     "execution_count": 3,
     "metadata": {},
     "output_type": "execute_result"
    }
   ],
   "source": [
    "x_data = df[['Crate', 'Ofc', 'Rate', 'Obr', 'Tre', 'Tos']]\n",
    "x_data.head()"
   ]
  },
  {
   "cell_type": "code",
   "execution_count": 4,
   "id": "7d52502b",
   "metadata": {},
   "outputs": [
    {
     "data": {
      "text/plain": [
       "0      50000\n",
       "1      18400\n",
       "2      17150\n",
       "3      14600\n",
       "4      20600\n",
       "       ...  \n",
       "386    71000\n",
       "387     8190\n",
       "388    21650\n",
       "389    16600\n",
       "390    13300\n",
       "Name: Beg, Length: 391, dtype: int64"
      ]
     },
     "execution_count": 4,
     "metadata": {},
     "output_type": "execute_result"
    }
   ],
   "source": [
    "y_data = df['Beg']\n",
    "y_data"
   ]
  },
  {
   "cell_type": "code",
   "execution_count": 5,
   "id": "4c1c4531",
   "metadata": {},
   "outputs": [],
   "source": [
    "from sklearn import preprocessing\n",
    "min_max_scaler = preprocessing.MinMaxScaler()\n",
    "X_data = min_max_scaler.fit_transform(x_data)"
   ]
  },
  {
   "cell_type": "code",
   "execution_count": 6,
   "id": "0dc9f551",
   "metadata": {},
   "outputs": [],
   "source": [
    "from sklearn.model_selection import train_test_split\n",
    "\n",
    "X_train, X_test, y_train, y_test = train_test_split(\n",
    "    X_data, y_data, test_size=0.2, random_state=42)"
   ]
  },
  {
   "cell_type": "code",
   "execution_count": 7,
   "id": "f89e161c",
   "metadata": {},
   "outputs": [
    {
     "data": {
      "text/plain": [
       "LinearRegression()"
      ]
     },
     "execution_count": 7,
     "metadata": {},
     "output_type": "execute_result"
    }
   ],
   "source": [
    "from sklearn.linear_model import LinearRegression\n",
    "\n",
    "mlr = LinearRegression()\n",
    "mlr.fit(X_train, y_train)"
   ]
  },
  {
   "cell_type": "code",
   "execution_count": 8,
   "id": "3b9e588e",
   "metadata": {},
   "outputs": [
    {
     "data": {
      "text/plain": [
       "<matplotlib.legend.Legend at 0x2578ff0b0d0>"
      ]
     },
     "execution_count": 8,
     "metadata": {},
     "output_type": "execute_result"
    },
    {
     "data": {
      "image/png": "[encoded data removed]",
      "text/plain": [
       "<Figure size 432x288 with 1 Axes>"
      ]
     },
     "metadata": {
      "needs_background": "light"
     },
     "output_type": "display_data"
    }
   ],
   "source": [
    "plt.plot(mlr.predict(X_test[:50]), label=\"Predict\")\n",
    "plt.plot(y_test[:50].values.reshape(-1, 1), label=\"Real Rate\")\n",
    "plt.legend()"
   ]
  },
  {
   "cell_type": "code",
   "execution_count": 9,
   "id": "e8bcb372",
   "metadata": {},
   "outputs": [
    {
     "data": {
      "image/png": "[encoded data removed]",
      "text/plain": [
       "<Figure size 432x288 with 1 Axes>"
      ]
     },
     "metadata": {
      "needs_background": "light"
     },
     "output_type": "display_data"
    }
   ],
   "source": [
    "y_predict = mlr.predict(X_test)\n",
    "\n",
    "plt.scatter(y_test, y_predict, alpha = 0.4)\n",
    "plt.show()"
   ]
  },
  {
   "cell_type": "code",
   "execution_count": 10,
   "id": "3a8de82f",
   "metadata": {},
   "outputs": [
    {
     "name": "stdout",
     "output_type": "stream",
     "text": [
      "0.8923288043665756\n"
     ]
    }
   ],
   "source": [
    "print(mlr.score(X_train, y_train))"
   ]
  },
  {
   "cell_type": "code",
   "execution_count": 11,
   "id": "c504e866",
   "metadata": {},
   "outputs": [
    {
     "data": {
      "text/html": [
       "<div>\n",
       "<style scoped>\n",
       "    .dataframe tbody tr th:only-of-type {\n",
       "        vertical-align: middle;\n",
       "    }\n",
       "\n",
       "    .dataframe tbody tr th {\n",
       "        vertical-align: top;\n",
       "    }\n",
       "\n",
       "    .dataframe thead th {\n",
       "        text-align: right;\n",
       "    }\n",
       "</style>\n",
       "<table border=\"1\" class=\"dataframe\">\n",
       "  <thead>\n",
       "    <tr style=\"text-align: right;\">\n",
       "      <th></th>\n",
       "      <th>Sal</th>\n",
       "      <th>Pro</th>\n",
       "      <th>Sec</th>\n",
       "      <th>Crate</th>\n",
       "      <th>Ofc</th>\n",
       "      <th>Rate</th>\n",
       "      <th>Obr</th>\n",
       "      <th>Tre</th>\n",
       "      <th>Sco</th>\n",
       "      <th>Sum</th>\n",
       "      <th>Tos</th>\n",
       "      <th>Mat</th>\n",
       "      <th>Lda</th>\n",
       "      <th>Pre</th>\n",
       "      <th>Pop</th>\n",
       "      <th>Hpol</th>\n",
       "      <th>Hpoh</th>\n",
       "    </tr>\n",
       "  </thead>\n",
       "  <tbody>\n",
       "    <tr>\n",
       "      <th>0</th>\n",
       "      <td>61174</td>\n",
       "      <td>17658</td>\n",
       "      <td>1.00</td>\n",
       "      <td>1159.05</td>\n",
       "      <td>25000</td>\n",
       "      <td>1511.36</td>\n",
       "      <td>42.54</td>\n",
       "      <td>0.75</td>\n",
       "      <td>3</td>\n",
       "      <td>28</td>\n",
       "      <td>0.107</td>\n",
       "      <td>0</td>\n",
       "      <td>20220715</td>\n",
       "      <td>52700</td>\n",
       "      <td>25000</td>\n",
       "      <td>23000</td>\n",
       "      <td>25000</td>\n",
       "    </tr>\n",
       "    <tr>\n",
       "      <th>1</th>\n",
       "      <td>60760</td>\n",
       "      <td>2506</td>\n",
       "      <td>0.83</td>\n",
       "      <td>682.13</td>\n",
       "      <td>18600</td>\n",
       "      <td>1616.27</td>\n",
       "      <td>5.92</td>\n",
       "      <td>0.67</td>\n",
       "      <td>12</td>\n",
       "      <td>45</td>\n",
       "      <td>0.267</td>\n",
       "      <td>0</td>\n",
       "      <td>20220714</td>\n",
       "      <td>14250</td>\n",
       "      <td>18600</td>\n",
       "      <td>15000</td>\n",
       "      <td>18600</td>\n",
       "    </tr>\n",
       "    <tr>\n",
       "      <th>2</th>\n",
       "      <td>10383</td>\n",
       "      <td>-13496</td>\n",
       "      <td>1.00</td>\n",
       "      <td>1727.38</td>\n",
       "      <td>13000</td>\n",
       "      <td>1623.41</td>\n",
       "      <td>11.58</td>\n",
       "      <td>1.00</td>\n",
       "      <td>4</td>\n",
       "      <td>56</td>\n",
       "      <td>0.071</td>\n",
       "      <td>0</td>\n",
       "      <td>20220701</td>\n",
       "      <td>12000</td>\n",
       "      <td>13000</td>\n",
       "      <td>9900</td>\n",
       "      <td>11600</td>\n",
       "    </tr>\n",
       "    <tr>\n",
       "      <th>3</th>\n",
       "      <td>418527</td>\n",
       "      <td>24895</td>\n",
       "      <td>1.00</td>\n",
       "      <td>111.26</td>\n",
       "      <td>16200</td>\n",
       "      <td>955.00</td>\n",
       "      <td>1.39</td>\n",
       "      <td>0.88</td>\n",
       "      <td>0</td>\n",
       "      <td>59</td>\n",
       "      <td>0.000</td>\n",
       "      <td>0</td>\n",
       "      <td>20220623</td>\n",
       "      <td>9330</td>\n",
       "      <td>16200</td>\n",
       "      <td>14200</td>\n",
       "      <td>16200</td>\n",
       "    </tr>\n",
       "    <tr>\n",
       "      <th>4</th>\n",
       "      <td>3879</td>\n",
       "      <td>-7665</td>\n",
       "      <td>1.00</td>\n",
       "      <td>1845.11</td>\n",
       "      <td>16000</td>\n",
       "      <td>1442.95</td>\n",
       "      <td>12.43</td>\n",
       "      <td>0.89</td>\n",
       "      <td>2</td>\n",
       "      <td>54</td>\n",
       "      <td>0.037</td>\n",
       "      <td>0</td>\n",
       "      <td>20220624</td>\n",
       "      <td>12400</td>\n",
       "      <td>16000</td>\n",
       "      <td>12000</td>\n",
       "      <td>14000</td>\n",
       "    </tr>\n",
       "  </tbody>\n",
       "</table>\n",
       "</div>"
      ],
      "text/plain": [
       "      Sal    Pro   Sec    Crate    Ofc     Rate    Obr   Tre  Sco  Sum    Tos  \\\n",
       "0   61174  17658  1.00  1159.05  25000  1511.36  42.54  0.75    3   28  0.107   \n",
       "1   60760   2506  0.83   682.13  18600  1616.27   5.92  0.67   12   45  0.267   \n",
       "2   10383 -13496  1.00  1727.38  13000  1623.41  11.58  1.00    4   56  0.071   \n",
       "3  418527  24895  1.00   111.26  16200   955.00   1.39  0.88    0   59  0.000   \n",
       "4    3879  -7665  1.00  1845.11  16000  1442.95  12.43  0.89    2   54  0.037   \n",
       "\n",
       "   Mat       Lda    Pre    Pop   Hpol   Hpoh  \n",
       "0    0  20220715  52700  25000  23000  25000  \n",
       "1    0  20220714  14250  18600  15000  18600  \n",
       "2    0  20220701  12000  13000   9900  11600  \n",
       "3    0  20220623   9330  16200  14200  16200  \n",
       "4    0  20220624  12400  16000  12000  14000  "
      ]
     },
     "execution_count": 11,
     "metadata": {},
     "output_type": "execute_result"
    }
   ],
   "source": [
    "x_data = df[[\"Sal\",\"Pro\",\"Sec\",\"Crate\",\"Ofc\",\"Rate\",\"Obr\",\"Tre\",\"Sco\",\"Sum\",\"Tos\",\"Mat\",\"Lda\",\"Pre\",\"Pop\",\"Hpol\",\"Hpoh\"]]\n",
    "x_data.head()"
   ]
  },
  {
   "cell_type": "code",
   "execution_count": 12,
   "id": "13e42318",
   "metadata": {},
   "outputs": [
    {
     "data": {
      "text/plain": [
       "0      50000\n",
       "1      18400\n",
       "2      17150\n",
       "3      14600\n",
       "4      20600\n",
       "       ...  \n",
       "386    71000\n",
       "387     8190\n",
       "388    21650\n",
       "389    16600\n",
       "390    13300\n",
       "Name: Beg, Length: 391, dtype: int64"
      ]
     },
     "execution_count": 12,
     "metadata": {},
     "output_type": "execute_result"
    }
   ],
   "source": [
    "y_data = df['Beg']\n",
    "y_data"
   ]
  },
  {
   "cell_type": "code",
   "execution_count": 13,
   "id": "eb8cf9f5",
   "metadata": {},
   "outputs": [],
   "source": [
    "min_max_scaler = preprocessing.MinMaxScaler()\n",
    "X_data = min_max_scaler.fit_transform(x_data)\n",
    "\n",
    "X_train, X_test, y_train, y_test = train_test_split(\n",
    "    X_data, y_data, test_size=0.2, random_state=42)"
   ]
  },
  {
   "cell_type": "code",
   "execution_count": 14,
   "id": "b78e8cb4",
   "metadata": {},
   "outputs": [
    {
     "data": {
      "text/plain": [
       "<matplotlib.legend.Legend at 0x2579009ef10>"
      ]
     },
     "execution_count": 14,
     "metadata": {},
     "output_type": "execute_result"
    },
    {
     "data": {
      "image/png": "[encoded data removed]",
      "text/plain": [
       "<Figure size 432x288 with 1 Axes>"
      ]
     },
     "metadata": {
      "needs_background": "light"
     },
     "output_type": "display_data"
    }
   ],
   "source": [
    "mlr = LinearRegression()\n",
    "mlr.fit(X_train, y_train)\n",
    "\n",
    "plt.plot(mlr.predict(X_test[:50]), label=\"Predict\")\n",
    "plt.plot(y_test[:50].values.reshape(-1, 1), label=\"Real Rate\")\n",
    "plt.legend()"
   ]
  },
  {
   "cell_type": "code",
   "execution_count": 15,
   "id": "69101299",
   "metadata": {},
   "outputs": [
    {
     "data": {
      "image/png": "[encoded data removed]",
      "text/plain": [
       "<Figure size 432x288 with 1 Axes>"
      ]
     },
     "metadata": {
      "needs_background": "light"
     },
     "output_type": "display_data"
    }
   ],
   "source": [
    "y_predict = mlr.predict(X_test)\n",
    "\n",
    "plt.scatter(y_test, y_predict, alpha = 0.4)\n",
    "plt.show()"
   ]
  },
  {
   "cell_type": "code",
   "execution_count": 16,
   "id": "8925c3e1",
   "metadata": {
    "scrolled": true
   },
   "outputs": [
    {
     "name": "stdout",
     "output_type": "stream",
     "text": [
      "0.9139800423526426\n"
     ]
    }
   ],
   "source": [
    "print(mlr.score(X_train, y_train))"
   ]
  },
  {
   "cell_type": "markdown",
   "id": "85394a13",
   "metadata": {},
   "source": [
    "이상치 시각화 및 제거"
   ]
  },
  {
   "cell_type": "code",
   "execution_count": 17,
   "id": "782ef466",
   "metadata": {},
   "outputs": [
    {
     "data": {
      "image/png": "[encoded data removed]",
      "text/plain": [
       "<Figure size 1440x720 with 1 Axes>"
      ]
     },
     "metadata": {
      "needs_background": "light"
     },
     "output_type": "display_data"
    }
   ],
   "source": [
    "plt.figure(figsize=(20,10))\n",
    "sns.boxplot(data=x_data[[\"Sal\",\"Pro\",\"Sec\",\"Crate\"]])\n",
    "plt.show()"
   ]
  },
  {
   "cell_type": "code",
   "execution_count": 18,
   "id": "0fed7d3a",
   "metadata": {},
   "outputs": [
    {
     "data": {
      "image/png": "[encoded data removed]",
      "text/plain": [
       "<Figure size 1440x720 with 1 Axes>"
      ]
     },
     "metadata": {
      "needs_background": "light"
     },
     "output_type": "display_data"
    }
   ],
   "source": [
    "plt.figure(figsize=(20,10))\n",
    "sns.boxplot(data=x_data[[\"Ofc\",\"Rate\",\"Obr\",\"Tre\"]])\n",
    "plt.show()"
   ]
  },
  {
   "cell_type": "code",
   "execution_count": 19,
   "id": "c038a51b",
   "metadata": {},
   "outputs": [
    {
     "data": {
      "image/png": "[encoded data removed]",
      "text/plain": [
       "<Figure size 1440x720 with 1 Axes>"
      ]
     },
     "metadata": {
      "needs_background": "light"
     },
     "output_type": "display_data"
    }
   ],
   "source": [
    "plt.figure(figsize=(20,10))\n",
    "sns.boxplot(data=x_data[[\"Sco\",\"Sum\",\"Tos\",\"Mat\"]])\n",
    "plt.show()"
   ]
  },
  {
   "cell_type": "code",
   "execution_count": 20,
   "id": "7a236938",
   "metadata": {},
   "outputs": [
    {
     "data": {
      "image/png": "[encoded data removed]",
      "text/plain": [
       "<Figure size 1800x720 with 1 Axes>"
      ]
     },
     "metadata": {
      "needs_background": "light"
     },
     "output_type": "display_data"
    }
   ],
   "source": [
    "plt.figure(figsize=(25,10))\n",
    "sns.boxplot(data=x_data[[\"Lda\",\"Pre\",\"Pop\",\"Hpol\",\"Hpoh\"]])\n",
    "plt.show()"
   ]
  },
  {
   "cell_type": "code",
   "execution_count": 21,
   "id": "873806c7",
   "metadata": {},
   "outputs": [
    {
     "name": "stdout",
     "output_type": "stream",
     "text": [
      "Sal    14028.0\n",
      "Ofc    10000.0\n",
      "Sco        0.0\n",
      "Sum       25.0\n",
      "Name: 0.25, dtype: float64\n",
      "Sal    58187.0\n",
      "Ofc    23750.0\n",
      "Sco        5.0\n",
      "Sum       44.0\n",
      "Name: 0.75, dtype: float64\n"
     ]
    }
   ],
   "source": [
    "Q1 = x_data[['Sal', 'Ofc', 'Sco', 'Sum']].quantile(q=0.25)\n",
    "Q3 = x_data[['Sal', 'Ofc', 'Sco', 'Sum']].quantile(q=0.75)\n",
    "print(Q1)\n",
    "print(Q3)"
   ]
  },
  {
   "cell_type": "code",
   "execution_count": 22,
   "id": "4e7afb3b",
   "metadata": {},
   "outputs": [
    {
     "data": {
      "text/plain": [
       "Sal    44159.0\n",
       "Ofc    13750.0\n",
       "Sco        5.0\n",
       "Sum       19.0\n",
       "dtype: float64"
      ]
     },
     "execution_count": 22,
     "metadata": {},
     "output_type": "execute_result"
    }
   ],
   "source": [
    "IQR = Q3-Q1\n",
    "IQR"
   ]
  },
  {
   "cell_type": "code",
   "execution_count": 23,
   "id": "ceaf2e8e",
   "metadata": {},
   "outputs": [],
   "source": [
    "IQR_data = x_data[(x_data['Sal'] <= Q3['Sal']+1.5*IQR['Sal']) & (df['Sal'] >= Q1['Sal']-1.5*IQR['Sal'])]\n",
    "IQR_data = IQR_data[(IQR_data['Ofc'] <= Q3['Ofc']+1.5*IQR['Ofc']) & (IQR_data['Ofc'] >= Q1['Ofc']-1.5*IQR['Ofc'])]\n",
    "IQR_data = IQR_data[(IQR_data['Sco'] <= Q3['Sco']+1.5*IQR['Sco']) & (IQR_data['Sco'] >= Q1['Sco']-1.5*IQR['Sco'])]\n",
    "IQR_data = IQR_data[(IQR_data['Sum'] <= Q3['Sum']+1.5*IQR['Sum']) & (IQR_data['Sum'] >= Q1['Sum']-1.5*IQR['Sum'])]\n",
    "\n",
    "IQR_data = IQR_data[['Sal', 'Ofc', 'Sco', 'Sum']]"
   ]
  },
  {
   "cell_type": "code",
   "execution_count": 24,
   "id": "10326f19",
   "metadata": {},
   "outputs": [
    {
     "data": {
      "text/html": [
       "<div>\n",
       "<style scoped>\n",
       "    .dataframe tbody tr th:only-of-type {\n",
       "        vertical-align: middle;\n",
       "    }\n",
       "\n",
       "    .dataframe tbody tr th {\n",
       "        vertical-align: top;\n",
       "    }\n",
       "\n",
       "    .dataframe thead th {\n",
       "        text-align: right;\n",
       "    }\n",
       "</style>\n",
       "<table border=\"1\" class=\"dataframe\">\n",
       "  <thead>\n",
       "    <tr style=\"text-align: right;\">\n",
       "      <th></th>\n",
       "      <th>Sal</th>\n",
       "      <th>Ofc</th>\n",
       "      <th>Sco</th>\n",
       "      <th>Sum</th>\n",
       "      <th>Beg</th>\n",
       "    </tr>\n",
       "  </thead>\n",
       "  <tbody>\n",
       "    <tr>\n",
       "      <th>0</th>\n",
       "      <td>61174</td>\n",
       "      <td>25000</td>\n",
       "      <td>3</td>\n",
       "      <td>28</td>\n",
       "      <td>50000</td>\n",
       "    </tr>\n",
       "    <tr>\n",
       "      <th>1</th>\n",
       "      <td>60760</td>\n",
       "      <td>18600</td>\n",
       "      <td>12</td>\n",
       "      <td>45</td>\n",
       "      <td>18400</td>\n",
       "    </tr>\n",
       "    <tr>\n",
       "      <th>2</th>\n",
       "      <td>10383</td>\n",
       "      <td>13000</td>\n",
       "      <td>4</td>\n",
       "      <td>56</td>\n",
       "      <td>17150</td>\n",
       "    </tr>\n",
       "    <tr>\n",
       "      <th>4</th>\n",
       "      <td>3879</td>\n",
       "      <td>16000</td>\n",
       "      <td>2</td>\n",
       "      <td>54</td>\n",
       "      <td>20600</td>\n",
       "    </tr>\n",
       "    <tr>\n",
       "      <th>5</th>\n",
       "      <td>31900</td>\n",
       "      <td>40000</td>\n",
       "      <td>8</td>\n",
       "      <td>45</td>\n",
       "      <td>41000</td>\n",
       "    </tr>\n",
       "    <tr>\n",
       "      <th>...</th>\n",
       "      <td>...</td>\n",
       "      <td>...</td>\n",
       "      <td>...</td>\n",
       "      <td>...</td>\n",
       "      <td>...</td>\n",
       "    </tr>\n",
       "    <tr>\n",
       "      <th>385</th>\n",
       "      <td>54240</td>\n",
       "      <td>27500</td>\n",
       "      <td>5</td>\n",
       "      <td>38</td>\n",
       "      <td>37100</td>\n",
       "    </tr>\n",
       "    <tr>\n",
       "      <th>387</th>\n",
       "      <td>51059</td>\n",
       "      <td>9100</td>\n",
       "      <td>5</td>\n",
       "      <td>24</td>\n",
       "      <td>8190</td>\n",
       "    </tr>\n",
       "    <tr>\n",
       "      <th>388</th>\n",
       "      <td>104434</td>\n",
       "      <td>13000</td>\n",
       "      <td>12</td>\n",
       "      <td>41</td>\n",
       "      <td>21650</td>\n",
       "    </tr>\n",
       "    <tr>\n",
       "      <th>389</th>\n",
       "      <td>69032</td>\n",
       "      <td>8300</td>\n",
       "      <td>6</td>\n",
       "      <td>38</td>\n",
       "      <td>16600</td>\n",
       "    </tr>\n",
       "    <tr>\n",
       "      <th>390</th>\n",
       "      <td>57400</td>\n",
       "      <td>8300</td>\n",
       "      <td>12</td>\n",
       "      <td>45</td>\n",
       "      <td>13300</td>\n",
       "    </tr>\n",
       "  </tbody>\n",
       "</table>\n",
       "<p>319 rows × 5 columns</p>\n",
       "</div>"
      ],
      "text/plain": [
       "        Sal    Ofc  Sco  Sum    Beg\n",
       "0     61174  25000    3   28  50000\n",
       "1     60760  18600   12   45  18400\n",
       "2     10383  13000    4   56  17150\n",
       "4      3879  16000    2   54  20600\n",
       "5     31900  40000    8   45  41000\n",
       "..      ...    ...  ...  ...    ...\n",
       "385   54240  27500    5   38  37100\n",
       "387   51059   9100    5   24   8190\n",
       "388  104434  13000   12   41  21650\n",
       "389   69032   8300    6   38  16600\n",
       "390   57400   8300   12   45  13300\n",
       "\n",
       "[319 rows x 5 columns]"
      ]
     },
     "execution_count": 24,
     "metadata": {},
     "output_type": "execute_result"
    }
   ],
   "source": [
    "iqr_df = IQR_data.join(y_data,how='left')\n",
    "iqr_df"
   ]
  },
  {
   "cell_type": "code",
   "execution_count": 25,
   "id": "a9f6cdd1",
   "metadata": {},
   "outputs": [
    {
     "name": "stdout",
     "output_type": "stream",
     "text": [
      "0.7253984839552692\n"
     ]
    }
   ],
   "source": [
    "x_data_ = iqr_df[['Sal', 'Ofc', 'Sco', 'Sum']]\n",
    "y_data_ = iqr_df[['Beg']]\n",
    "\n",
    "min_max_scaler = preprocessing.MinMaxScaler()\n",
    "X_data_ = min_max_scaler.fit_transform(x_data_)\n",
    "\n",
    "X_train, X_test, y_train, y_test = train_test_split(\n",
    "    X_data_, y_data_, test_size=0.2, random_state=42)\n",
    "mlr = LinearRegression()\n",
    "mlr.fit(X_train, y_train)\n",
    "\n",
    "print(mlr.score(X_train, y_train))"
   ]
  }
 ],
 "metadata": {
  "kernelspec": {
   "display_name": "Python 3 (ipykernel)",
   "language": "python",
   "name": "python3"
  },
  "language_info": {
   "codemirror_mode": {
    "name": "ipython",
    "version": 3
   },
   "file_extension": ".py",
   "mimetype": "text/x-python",
   "name": "python",
   "nbconvert_exporter": "python",
   "pygments_lexer": "ipython3",
   "version": "3.9.7"
  }
 },
 "nbformat": 4,
 "nbformat_minor": 5
}
